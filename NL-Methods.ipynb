{
  "nbformat": 4,
  "nbformat_minor": 5,
  "metadata": {
    "kernelspec": {
      "display_name": "Python 3 (ipykernel)",
      "language": "python",
      "name": "python3"
    },
    "language_info": {
      "codemirror_mode": {
        "name": "ipython",
        "version": 3
      },
      "file_extension": ".py",
      "mimetype": "text/x-python",
      "name": "python",
      "nbconvert_exporter": "python",
      "pygments_lexer": "ipython3",
      "version": "3.8.12"
    },
    "colab": {
      "name": "Assignment 1: Nonlinear Analysis.ipynb",
      "provenance": [],
      "toc_visible": true
    }
  },
  "cells": [
    {
      "cell_type": "markdown",
      "metadata": {
        "id": "IKe_WC3ZknHg"
      },
      "source": [
        "#Assignment 1: Non-linear analysis\n",
        "By: César Portocarrero\n",
        "\n",
        "Student Number: 37215134"
      ],
      "id": "IKe_WC3ZknHg"
    },
    {
      "cell_type": "markdown",
      "metadata": {
        "id": "EhZx8q_ElFli"
      },
      "source": [
        "##1) Installation of necessary modules and packages\n"
      ],
      "id": "EhZx8q_ElFli"
    },
    {
      "cell_type": "code",
      "metadata": {
        "colab": {
          "base_uri": "https://localhost:8080/"
        },
        "id": "81e354c4",
        "outputId": "ecb8e18f-888f-4a8e-ac9b-69a28065b403"
      },
      "source": [
        "######################################################################################\n",
        "# This is a simple sample code to introduce necessary grammar in developing codes for\n",
        "# your assignment on arc-length method.\n",
        "# This simple script do forward Euler method to trace the non-linear F-u relation, with\n",
        "# load control\n",
        "# In this sample code, I am using sympy package of Python to manipulate equations\n",
        "# with symbolic algebra. Sympy could be a useful tool.\n",
        "#######################################################################################\n",
        "! sudo apt-get install texlive-latex-recommended \n",
        "! sudo apt install texlive-latex-extra\n",
        "! sudo apt install dvipng\n",
        "! sudo apt-get install texlive-latex-extra texlive-fonts-recommended dvipng cm-super\n",
        "###############are \n",
        "# load package for symbolic algebra\n",
        "# see http://docs.sympy.org/0.7.2/tutorial.html, if you want to learn more on sympy\n",
        "import sympy as sym\n",
        "#For pretty printing of symbolic expressions\n",
        "from fractions import Fraction\n",
        "from sympy import init_printing\n",
        "#init_printing(use_latex=True)\n",
        "init_printing(use_latex='mathjax')\n",
        "from sympy import pprint\n",
        "from sympy import Symbol\n",
        "from IPython.display import display\n",
        "\n",
        "\n",
        "############\n",
        "#for numerical computing we use numpy ; arrays, etc.\n",
        "import numpy as np\n",
        "import math\n",
        "#for plotting\n",
        "import matplotlib.pyplot as plt\n",
        "###########"
      ],
      "id": "81e354c4",
      "execution_count": null,
      "outputs": [
        {
          "output_type": "stream",
          "name": "stdout",
          "text": [
            "Reading package lists... Done\n",
            "Building dependency tree       \n",
            "Reading state information... Done\n",
            "The following package was automatically installed and is no longer required:\n",
            "  libnvidia-common-460\n",
            "Use 'sudo apt autoremove' to remove it.\n",
            "The following additional packages will be installed:\n",
            "  fonts-droid-fallback fonts-lmodern fonts-noto-mono libcupsfilters1\n",
            "  libcupsimage2 libgs9 libgs9-common libijs-0.35 libjbig2dec0 libkpathsea6\n",
            "  libpotrace0 libptexenc1 libsynctex1 libtexlua52 libtexluajit2 libzzip-0-13\n",
            "  lmodern poppler-data t1utils tex-common texlive-base texlive-binaries\n",
            "  texlive-latex-base\n",
            "Suggested packages:\n",
            "  fonts-noto poppler-utils ghostscript fonts-japanese-mincho\n",
            "  | fonts-ipafont-mincho fonts-japanese-gothic | fonts-ipafont-gothic\n",
            "  fonts-arphic-ukai fonts-arphic-uming fonts-nanum debhelper gv\n",
            "  | postscript-viewer perl-tk xpdf-reader | pdf-viewer texlive-latex-base-doc\n",
            "  texlive-latex-recommended-doc texlive-pstricks\n",
            "The following NEW packages will be installed:\n",
            "  fonts-droid-fallback fonts-lmodern fonts-noto-mono libcupsfilters1\n",
            "  libcupsimage2 libgs9 libgs9-common libijs-0.35 libjbig2dec0 libkpathsea6\n",
            "  libpotrace0 libptexenc1 libsynctex1 libtexlua52 libtexluajit2 libzzip-0-13\n",
            "  lmodern poppler-data t1utils tex-common texlive-base texlive-binaries\n",
            "  texlive-latex-base texlive-latex-recommended\n",
            "0 upgraded, 24 newly installed, 0 to remove and 37 not upgraded.\n",
            "Need to get 68.4 MB of archives.\n",
            "After this operation, 223 MB of additional disk space will be used.\n",
            "Get:1 http://archive.ubuntu.com/ubuntu bionic/main amd64 fonts-droid-fallback all 1:6.0.1r16-1.1 [1,805 kB]\n",
            "Get:2 http://archive.ubuntu.com/ubuntu bionic/main amd64 poppler-data all 0.4.8-2 [1,479 kB]\n",
            "Get:3 http://archive.ubuntu.com/ubuntu bionic/main amd64 tex-common all 6.09 [33.0 kB]\n",
            "Get:4 http://archive.ubuntu.com/ubuntu bionic/main amd64 fonts-lmodern all 2.004.5-3 [4,551 kB]\n",
            "Get:5 http://archive.ubuntu.com/ubuntu bionic/main amd64 fonts-noto-mono all 20171026-2 [75.5 kB]\n",
            "Get:6 http://archive.ubuntu.com/ubuntu bionic-updates/main amd64 libcupsfilters1 amd64 1.20.2-0ubuntu3.1 [108 kB]\n",
            "Get:7 http://archive.ubuntu.com/ubuntu bionic-updates/main amd64 libcupsimage2 amd64 2.2.7-1ubuntu2.8 [18.6 kB]\n",
            "Get:8 http://archive.ubuntu.com/ubuntu bionic/main amd64 libijs-0.35 amd64 0.35-13 [15.5 kB]\n",
            "Get:9 http://archive.ubuntu.com/ubuntu bionic/main amd64 libjbig2dec0 amd64 0.13-6 [55.9 kB]\n",
            "Get:10 http://archive.ubuntu.com/ubuntu bionic-updates/main amd64 libgs9-common all 9.26~dfsg+0-0ubuntu0.18.04.14 [5,092 kB]\n",
            "Get:11 http://archive.ubuntu.com/ubuntu bionic-updates/main amd64 libgs9 amd64 9.26~dfsg+0-0ubuntu0.18.04.14 [2,265 kB]\n",
            "Get:12 http://archive.ubuntu.com/ubuntu bionic-updates/main amd64 libkpathsea6 amd64 2017.20170613.44572-8ubuntu0.1 [54.9 kB]\n",
            "Get:13 http://archive.ubuntu.com/ubuntu bionic/main amd64 libpotrace0 amd64 1.14-2 [17.4 kB]\n",
            "Get:14 http://archive.ubuntu.com/ubuntu bionic-updates/main amd64 libptexenc1 amd64 2017.20170613.44572-8ubuntu0.1 [34.5 kB]\n",
            "Get:15 http://archive.ubuntu.com/ubuntu bionic-updates/main amd64 libsynctex1 amd64 2017.20170613.44572-8ubuntu0.1 [41.4 kB]\n",
            "Get:16 http://archive.ubuntu.com/ubuntu bionic-updates/main amd64 libtexlua52 amd64 2017.20170613.44572-8ubuntu0.1 [91.2 kB]\n",
            "Get:17 http://archive.ubuntu.com/ubuntu bionic-updates/main amd64 libtexluajit2 amd64 2017.20170613.44572-8ubuntu0.1 [230 kB]\n",
            "Get:18 http://archive.ubuntu.com/ubuntu bionic-updates/main amd64 libzzip-0-13 amd64 0.13.62-3.1ubuntu0.18.04.1 [26.0 kB]\n",
            "Get:19 http://archive.ubuntu.com/ubuntu bionic/main amd64 lmodern all 2.004.5-3 [9,631 kB]\n",
            "Get:20 http://archive.ubuntu.com/ubuntu bionic/main amd64 t1utils amd64 1.41-2 [56.0 kB]\n",
            "Get:21 http://archive.ubuntu.com/ubuntu bionic-updates/main amd64 texlive-binaries amd64 2017.20170613.44572-8ubuntu0.1 [8,179 kB]\n",
            "Get:22 http://archive.ubuntu.com/ubuntu bionic/main amd64 texlive-base all 2017.20180305-1 [18.7 MB]\n",
            "Get:23 http://archive.ubuntu.com/ubuntu bionic/main amd64 texlive-latex-base all 2017.20180305-1 [951 kB]\n",
            "Get:24 http://archive.ubuntu.com/ubuntu bionic/main amd64 texlive-latex-recommended all 2017.20180305-1 [14.9 MB]\n",
            "Fetched 68.4 MB in 3s (22.2 MB/s)\n",
            "debconf: unable to initialize frontend: Dialog\n",
            "debconf: (No usable dialog-like program is installed, so the dialog based frontend cannot be used. at /usr/share/perl5/Debconf/FrontEnd/Dialog.pm line 76, <> line 24.)\n",
            "debconf: falling back to frontend: Readline\n",
            "debconf: unable to initialize frontend: Readline\n",
            "debconf: (This frontend requires a controlling tty.)\n",
            "debconf: falling back to frontend: Teletype\n",
            "dpkg-preconfigure: unable to re-open stdin: \n",
            "Selecting previously unselected package fonts-droid-fallback.\n",
            "(Reading database ... 155062 files and directories currently installed.)\n",
            "Preparing to unpack .../00-fonts-droid-fallback_1%3a6.0.1r16-1.1_all.deb ...\n",
            "Unpacking fonts-droid-fallback (1:6.0.1r16-1.1) ...\n",
            "Selecting previously unselected package poppler-data.\n",
            "Preparing to unpack .../01-poppler-data_0.4.8-2_all.deb ...\n",
            "Unpacking poppler-data (0.4.8-2) ...\n",
            "Selecting previously unselected package tex-common.\n",
            "Preparing to unpack .../02-tex-common_6.09_all.deb ...\n",
            "Unpacking tex-common (6.09) ...\n",
            "Selecting previously unselected package fonts-lmodern.\n",
            "Preparing to unpack .../03-fonts-lmodern_2.004.5-3_all.deb ...\n",
            "Unpacking fonts-lmodern (2.004.5-3) ...\n",
            "Selecting previously unselected package fonts-noto-mono.\n",
            "Preparing to unpack .../04-fonts-noto-mono_20171026-2_all.deb ...\n",
            "Unpacking fonts-noto-mono (20171026-2) ...\n",
            "Selecting previously unselected package libcupsfilters1:amd64.\n",
            "Preparing to unpack .../05-libcupsfilters1_1.20.2-0ubuntu3.1_amd64.deb ...\n",
            "Unpacking libcupsfilters1:amd64 (1.20.2-0ubuntu3.1) ...\n",
            "Selecting previously unselected package libcupsimage2:amd64.\n",
            "Preparing to unpack .../06-libcupsimage2_2.2.7-1ubuntu2.8_amd64.deb ...\n",
            "Unpacking libcupsimage2:amd64 (2.2.7-1ubuntu2.8) ...\n",
            "Selecting previously unselected package libijs-0.35:amd64.\n",
            "Preparing to unpack .../07-libijs-0.35_0.35-13_amd64.deb ...\n",
            "Unpacking libijs-0.35:amd64 (0.35-13) ...\n",
            "Selecting previously unselected package libjbig2dec0:amd64.\n",
            "Preparing to unpack .../08-libjbig2dec0_0.13-6_amd64.deb ...\n",
            "Unpacking libjbig2dec0:amd64 (0.13-6) ...\n",
            "Selecting previously unselected package libgs9-common.\n",
            "Preparing to unpack .../09-libgs9-common_9.26~dfsg+0-0ubuntu0.18.04.14_all.deb ...\n",
            "Unpacking libgs9-common (9.26~dfsg+0-0ubuntu0.18.04.14) ...\n",
            "Selecting previously unselected package libgs9:amd64.\n",
            "Preparing to unpack .../10-libgs9_9.26~dfsg+0-0ubuntu0.18.04.14_amd64.deb ...\n",
            "Unpacking libgs9:amd64 (9.26~dfsg+0-0ubuntu0.18.04.14) ...\n",
            "Selecting previously unselected package libkpathsea6:amd64.\n",
            "Preparing to unpack .../11-libkpathsea6_2017.20170613.44572-8ubuntu0.1_amd64.deb ...\n",
            "Unpacking libkpathsea6:amd64 (2017.20170613.44572-8ubuntu0.1) ...\n",
            "Selecting previously unselected package libpotrace0.\n",
            "Preparing to unpack .../12-libpotrace0_1.14-2_amd64.deb ...\n",
            "Unpacking libpotrace0 (1.14-2) ...\n",
            "Selecting previously unselected package libptexenc1:amd64.\n",
            "Preparing to unpack .../13-libptexenc1_2017.20170613.44572-8ubuntu0.1_amd64.deb ...\n",
            "Unpacking libptexenc1:amd64 (2017.20170613.44572-8ubuntu0.1) ...\n",
            "Selecting previously unselected package libsynctex1:amd64.\n",
            "Preparing to unpack .../14-libsynctex1_2017.20170613.44572-8ubuntu0.1_amd64.deb ...\n",
            "Unpacking libsynctex1:amd64 (2017.20170613.44572-8ubuntu0.1) ...\n",
            "Selecting previously unselected package libtexlua52:amd64.\n",
            "Preparing to unpack .../15-libtexlua52_2017.20170613.44572-8ubuntu0.1_amd64.deb ...\n",
            "Unpacking libtexlua52:amd64 (2017.20170613.44572-8ubuntu0.1) ...\n",
            "Selecting previously unselected package libtexluajit2:amd64.\n",
            "Preparing to unpack .../16-libtexluajit2_2017.20170613.44572-8ubuntu0.1_amd64.deb ...\n",
            "Unpacking libtexluajit2:amd64 (2017.20170613.44572-8ubuntu0.1) ...\n",
            "Selecting previously unselected package libzzip-0-13:amd64.\n",
            "Preparing to unpack .../17-libzzip-0-13_0.13.62-3.1ubuntu0.18.04.1_amd64.deb ...\n",
            "Unpacking libzzip-0-13:amd64 (0.13.62-3.1ubuntu0.18.04.1) ...\n",
            "Selecting previously unselected package lmodern.\n",
            "Preparing to unpack .../18-lmodern_2.004.5-3_all.deb ...\n",
            "Unpacking lmodern (2.004.5-3) ...\n",
            "Selecting previously unselected package t1utils.\n",
            "Preparing to unpack .../19-t1utils_1.41-2_amd64.deb ...\n",
            "Unpacking t1utils (1.41-2) ...\n",
            "Selecting previously unselected package texlive-binaries.\n",
            "Preparing to unpack .../20-texlive-binaries_2017.20170613.44572-8ubuntu0.1_amd64.deb ...\n",
            "Unpacking texlive-binaries (2017.20170613.44572-8ubuntu0.1) ...\n",
            "Selecting previously unselected package texlive-base.\n",
            "Preparing to unpack .../21-texlive-base_2017.20180305-1_all.deb ...\n",
            "Unpacking texlive-base (2017.20180305-1) ...\n",
            "Selecting previously unselected package texlive-latex-base.\n",
            "Preparing to unpack .../22-texlive-latex-base_2017.20180305-1_all.deb ...\n",
            "Unpacking texlive-latex-base (2017.20180305-1) ...\n",
            "Selecting previously unselected package texlive-latex-recommended.\n",
            "Preparing to unpack .../23-texlive-latex-recommended_2017.20180305-1_all.deb ...\n",
            "Unpacking texlive-latex-recommended (2017.20180305-1) ...\n",
            "Setting up libgs9-common (9.26~dfsg+0-0ubuntu0.18.04.14) ...\n",
            "Setting up libkpathsea6:amd64 (2017.20170613.44572-8ubuntu0.1) ...\n",
            "Setting up libtexlua52:amd64 (2017.20170613.44572-8ubuntu0.1) ...\n",
            "Setting up fonts-droid-fallback (1:6.0.1r16-1.1) ...\n",
            "Setting up libsynctex1:amd64 (2017.20170613.44572-8ubuntu0.1) ...\n",
            "Setting up libptexenc1:amd64 (2017.20170613.44572-8ubuntu0.1) ...\n",
            "Setting up tex-common (6.09) ...\n",
            "debconf: unable to initialize frontend: Dialog\n",
            "debconf: (No usable dialog-like program is installed, so the dialog based frontend cannot be used. at /usr/share/perl5/Debconf/FrontEnd/Dialog.pm line 76.)\n",
            "debconf: falling back to frontend: Readline\n",
            "update-language: texlive-base not installed and configured, doing nothing!\n",
            "Setting up poppler-data (0.4.8-2) ...\n",
            "Setting up fonts-noto-mono (20171026-2) ...\n",
            "Setting up libcupsfilters1:amd64 (1.20.2-0ubuntu3.1) ...\n",
            "Setting up libcupsimage2:amd64 (2.2.7-1ubuntu2.8) ...\n",
            "Setting up libjbig2dec0:amd64 (0.13-6) ...\n",
            "Setting up t1utils (1.41-2) ...\n",
            "Setting up libijs-0.35:amd64 (0.35-13) ...\n",
            "Setting up libpotrace0 (1.14-2) ...\n",
            "Setting up libzzip-0-13:amd64 (0.13.62-3.1ubuntu0.18.04.1) ...\n",
            "Setting up libgs9:amd64 (9.26~dfsg+0-0ubuntu0.18.04.14) ...\n",
            "Setting up libtexluajit2:amd64 (2017.20170613.44572-8ubuntu0.1) ...\n",
            "Setting up fonts-lmodern (2.004.5-3) ...\n",
            "Setting up texlive-binaries (2017.20170613.44572-8ubuntu0.1) ...\n",
            "update-alternatives: using /usr/bin/xdvi-xaw to provide /usr/bin/xdvi.bin (xdvi.bin) in auto mode\n",
            "update-alternatives: using /usr/bin/bibtex.original to provide /usr/bin/bibtex (bibtex) in auto mode\n",
            "Setting up texlive-base (2017.20180305-1) ...\n",
            "mktexlsr: Updating /var/lib/texmf/ls-R-TEXLIVEDIST... \n",
            "mktexlsr: Updating /var/lib/texmf/ls-R-TEXMFMAIN... \n",
            "mktexlsr: Updating /var/lib/texmf/ls-R... \n",
            "mktexlsr: Done.\n",
            "tl-paper: setting paper size for dvips to a4: /var/lib/texmf/dvips/config/config-paper.ps\n",
            "tl-paper: setting paper size for dvipdfmx to a4: /var/lib/texmf/dvipdfmx/dvipdfmx-paper.cfg\n",
            "tl-paper: setting paper size for xdvi to a4: /var/lib/texmf/xdvi/XDvi-paper\n",
            "tl-paper: setting paper size for pdftex to a4: /var/lib/texmf/tex/generic/config/pdftexconfig.tex\n",
            "debconf: unable to initialize frontend: Dialog\n",
            "debconf: (No usable dialog-like program is installed, so the dialog based frontend cannot be used. at /usr/share/perl5/Debconf/FrontEnd/Dialog.pm line 76.)\n",
            "debconf: falling back to frontend: Readline\n",
            "Setting up texlive-latex-base (2017.20180305-1) ...\n",
            "Setting up lmodern (2.004.5-3) ...\n",
            "Setting up texlive-latex-recommended (2017.20180305-1) ...\n",
            "Processing triggers for libc-bin (2.27-3ubuntu1.3) ...\n",
            "/sbin/ldconfig.real: /usr/local/lib/python3.7/dist-packages/ideep4py/lib/libmkldnn.so.0 is not a symbolic link\n",
            "\n",
            "Processing triggers for man-db (2.8.3-2ubuntu0.1) ...\n",
            "Processing triggers for fontconfig (2.12.6-0ubuntu2) ...\n",
            "Processing triggers for mime-support (3.60ubuntu1) ...\n",
            "Processing triggers for tex-common (6.09) ...\n",
            "debconf: unable to initialize frontend: Dialog\n",
            "debconf: (No usable dialog-like program is installed, so the dialog based frontend cannot be used. at /usr/share/perl5/Debconf/FrontEnd/Dialog.pm line 76.)\n",
            "debconf: falling back to frontend: Readline\n",
            "Running updmap-sys. This may take some time... done.\n",
            "Running mktexlsr /var/lib/texmf ... done.\n",
            "Building format(s) --all.\n",
            "\tThis may take some time... done.\n",
            "Reading package lists... Done\n",
            "Building dependency tree       \n",
            "Reading state information... Done\n",
            "The following package was automatically installed and is no longer required:\n",
            "  libnvidia-common-460\n",
            "Use 'sudo apt autoremove' to remove it.\n",
            "The following additional packages will be installed:\n",
            "  fonts-lato fonts-texgyre javascript-common libjs-jquery libruby2.5\n",
            "  preview-latex-style rake ruby ruby-did-you-mean ruby-minitest\n",
            "  ruby-net-telnet ruby-power-assert ruby-test-unit ruby2.5\n",
            "  rubygems-integration tex-gyre texlive-fonts-recommended texlive-pictures\n",
            "  texlive-plain-generic tipa\n",
            "Suggested packages:\n",
            "  apache2 | lighttpd | httpd ri ruby-dev bundler texlive-fonts-recommended-doc\n",
            "  python-pygments icc-profiles libfile-which-perl\n",
            "  libspreadsheet-parseexcel-perl texlive-latex-extra-doc dot2tex prerex\n",
            "  ruby-tcltk | libtcltk-ruby texlive-pictures-doc vprerex\n",
            "The following NEW packages will be installed:\n",
            "  fonts-lato fonts-texgyre javascript-common libjs-jquery libruby2.5\n",
            "  preview-latex-style rake ruby ruby-did-you-mean ruby-minitest\n",
            "  ruby-net-telnet ruby-power-assert ruby-test-unit ruby2.5\n",
            "  rubygems-integration tex-gyre texlive-fonts-recommended texlive-latex-extra\n",
            "  texlive-pictures texlive-plain-generic tipa\n",
            "0 upgraded, 21 newly installed, 0 to remove and 37 not upgraded.\n",
            "Need to get 66.6 MB of archives.\n",
            "After this operation, 216 MB of additional disk space will be used.\n",
            "Get:1 http://archive.ubuntu.com/ubuntu bionic/main amd64 fonts-lato all 2.0-2 [2,698 kB]\n",
            "Get:2 http://archive.ubuntu.com/ubuntu bionic/universe amd64 fonts-texgyre all 20160520-1 [8,761 kB]\n",
            "Get:3 http://archive.ubuntu.com/ubuntu bionic/main amd64 javascript-common all 11 [6,066 B]\n",
            "Get:4 http://archive.ubuntu.com/ubuntu bionic/main amd64 libjs-jquery all 3.2.1-1 [152 kB]\n",
            "Get:5 http://archive.ubuntu.com/ubuntu bionic/main amd64 rubygems-integration all 1.11 [4,994 B]\n",
            "Get:6 http://archive.ubuntu.com/ubuntu bionic-updates/main amd64 ruby2.5 amd64 2.5.1-1ubuntu1.10 [48.6 kB]\n",
            "Get:7 http://archive.ubuntu.com/ubuntu bionic/main amd64 ruby amd64 1:2.5.1 [5,712 B]\n",
            "Get:8 http://archive.ubuntu.com/ubuntu bionic-updates/main amd64 rake all 12.3.1-1ubuntu0.1 [44.9 kB]\n",
            "Get:9 http://archive.ubuntu.com/ubuntu bionic/main amd64 ruby-did-you-mean all 1.2.0-2 [9,700 B]\n",
            "Get:10 http://archive.ubuntu.com/ubuntu bionic/main amd64 ruby-minitest all 5.10.3-1 [38.6 kB]\n",
            "Get:11 http://archive.ubuntu.com/ubuntu bionic/main amd64 ruby-net-telnet all 0.1.1-2 [12.6 kB]\n",
            "Get:12 http://archive.ubuntu.com/ubuntu bionic/main amd64 ruby-power-assert all 0.3.0-1 [7,952 B]\n",
            "Get:13 http://archive.ubuntu.com/ubuntu bionic/main amd64 ruby-test-unit all 3.2.5-1 [61.1 kB]\n",
            "Get:14 http://archive.ubuntu.com/ubuntu bionic-updates/main amd64 libruby2.5 amd64 2.5.1-1ubuntu1.10 [3,071 kB]\n",
            "Get:15 http://archive.ubuntu.com/ubuntu bionic/main amd64 preview-latex-style all 11.91-1ubuntu1 [185 kB]\n",
            "Get:16 http://archive.ubuntu.com/ubuntu bionic/universe amd64 tex-gyre all 20160520-1 [4,998 kB]\n",
            "Get:17 http://archive.ubuntu.com/ubuntu bionic/universe amd64 texlive-fonts-recommended all 2017.20180305-1 [5,262 kB]\n",
            "Get:18 http://archive.ubuntu.com/ubuntu bionic/universe amd64 texlive-pictures all 2017.20180305-1 [4,026 kB]\n",
            "Get:19 http://archive.ubuntu.com/ubuntu bionic/universe amd64 texlive-latex-extra all 2017.20180305-2 [10.6 MB]\n",
            "Get:20 http://archive.ubuntu.com/ubuntu bionic/universe amd64 texlive-plain-generic all 2017.20180305-2 [23.6 MB]\n",
            "Get:21 http://archive.ubuntu.com/ubuntu bionic/universe amd64 tipa all 2:1.3-20 [2,978 kB]\n",
            "Fetched 66.6 MB in 3s (20.8 MB/s)\n",
            "debconf: unable to initialize frontend: Dialog\n",
            "debconf: (No usable dialog-like program is installed, so the dialog based frontend cannot be used. at /usr/share/perl5/Debconf/FrontEnd/Dialog.pm line 76, <> line 21.)\n",
            "debconf: falling back to frontend: Readline\n",
            "debconf: unable to initialize frontend: Readline\n",
            "debconf: (This frontend requires a controlling tty.)\n",
            "debconf: falling back to frontend: Teletype\n",
            "dpkg-preconfigure: unable to re-open stdin: \n",
            "Selecting previously unselected package fonts-lato.\n",
            "(Reading database ... 162396 files and directories currently installed.)\n",
            "Preparing to unpack .../00-fonts-lato_2.0-2_all.deb ...\n",
            "Unpacking fonts-lato (2.0-2) ...\n",
            "Selecting previously unselected package fonts-texgyre.\n",
            "Preparing to unpack .../01-fonts-texgyre_20160520-1_all.deb ...\n",
            "Unpacking fonts-texgyre (20160520-1) ...\n",
            "Selecting previously unselected package javascript-common.\n",
            "Preparing to unpack .../02-javascript-common_11_all.deb ...\n",
            "Unpacking javascript-common (11) ...\n",
            "Selecting previously unselected package libjs-jquery.\n",
            "Preparing to unpack .../03-libjs-jquery_3.2.1-1_all.deb ...\n",
            "Unpacking libjs-jquery (3.2.1-1) ...\n",
            "Selecting previously unselected package rubygems-integration.\n",
            "Preparing to unpack .../04-rubygems-integration_1.11_all.deb ...\n",
            "Unpacking rubygems-integration (1.11) ...\n",
            "Selecting previously unselected package ruby2.5.\n",
            "Preparing to unpack .../05-ruby2.5_2.5.1-1ubuntu1.10_amd64.deb ...\n",
            "Unpacking ruby2.5 (2.5.1-1ubuntu1.10) ...\n",
            "Selecting previously unselected package ruby.\n",
            "Preparing to unpack .../06-ruby_1%3a2.5.1_amd64.deb ...\n",
            "Unpacking ruby (1:2.5.1) ...\n",
            "Selecting previously unselected package rake.\n",
            "Preparing to unpack .../07-rake_12.3.1-1ubuntu0.1_all.deb ...\n",
            "Unpacking rake (12.3.1-1ubuntu0.1) ...\n",
            "Selecting previously unselected package ruby-did-you-mean.\n",
            "Preparing to unpack .../08-ruby-did-you-mean_1.2.0-2_all.deb ...\n",
            "Unpacking ruby-did-you-mean (1.2.0-2) ...\n",
            "Selecting previously unselected package ruby-minitest.\n",
            "Preparing to unpack .../09-ruby-minitest_5.10.3-1_all.deb ...\n",
            "Unpacking ruby-minitest (5.10.3-1) ...\n",
            "Selecting previously unselected package ruby-net-telnet.\n",
            "Preparing to unpack .../10-ruby-net-telnet_0.1.1-2_all.deb ...\n",
            "Unpacking ruby-net-telnet (0.1.1-2) ...\n",
            "Selecting previously unselected package ruby-power-assert.\n",
            "Preparing to unpack .../11-ruby-power-assert_0.3.0-1_all.deb ...\n",
            "Unpacking ruby-power-assert (0.3.0-1) ...\n",
            "Selecting previously unselected package ruby-test-unit.\n",
            "Preparing to unpack .../12-ruby-test-unit_3.2.5-1_all.deb ...\n",
            "Unpacking ruby-test-unit (3.2.5-1) ...\n",
            "Selecting previously unselected package libruby2.5:amd64.\n",
            "Preparing to unpack .../13-libruby2.5_2.5.1-1ubuntu1.10_amd64.deb ...\n",
            "Unpacking libruby2.5:amd64 (2.5.1-1ubuntu1.10) ...\n",
            "Selecting previously unselected package preview-latex-style.\n",
            "Preparing to unpack .../14-preview-latex-style_11.91-1ubuntu1_all.deb ...\n",
            "Unpacking preview-latex-style (11.91-1ubuntu1) ...\n",
            "Selecting previously unselected package tex-gyre.\n",
            "Preparing to unpack .../15-tex-gyre_20160520-1_all.deb ...\n",
            "Unpacking tex-gyre (20160520-1) ...\n",
            "Selecting previously unselected package texlive-fonts-recommended.\n",
            "Preparing to unpack .../16-texlive-fonts-recommended_2017.20180305-1_all.deb ...\n",
            "Unpacking texlive-fonts-recommended (2017.20180305-1) ...\n",
            "Selecting previously unselected package texlive-pictures.\n",
            "Preparing to unpack .../17-texlive-pictures_2017.20180305-1_all.deb ...\n",
            "Unpacking texlive-pictures (2017.20180305-1) ...\n",
            "Selecting previously unselected package texlive-latex-extra.\n",
            "Preparing to unpack .../18-texlive-latex-extra_2017.20180305-2_all.deb ...\n",
            "Unpacking texlive-latex-extra (2017.20180305-2) ...\n",
            "Selecting previously unselected package texlive-plain-generic.\n",
            "Preparing to unpack .../19-texlive-plain-generic_2017.20180305-2_all.deb ...\n",
            "Unpacking texlive-plain-generic (2017.20180305-2) ...\n",
            "Selecting previously unselected package tipa.\n",
            "Preparing to unpack .../20-tipa_2%3a1.3-20_all.deb ...\n",
            "Unpacking tipa (2:1.3-20) ...\n",
            "Setting up libjs-jquery (3.2.1-1) ...\n",
            "Setting up texlive-pictures (2017.20180305-1) ...\n",
            "Setting up tex-gyre (20160520-1) ...\n",
            "Setting up tipa (2:1.3-20) ...\n",
            "Regenerating '/var/lib/texmf/fmtutil.cnf-DEBIAN'... done.\n",
            "Regenerating '/var/lib/texmf/fmtutil.cnf-TEXLIVEDIST'... done.\n",
            "update-fmtutil has updated the following file(s):\n",
            "\t/var/lib/texmf/fmtutil.cnf-DEBIAN\n",
            "\t/var/lib/texmf/fmtutil.cnf-TEXLIVEDIST\n",
            "If you want to activate the changes in the above file(s),\n",
            "you should run fmtutil-sys or fmtutil.\n",
            "Setting up preview-latex-style (11.91-1ubuntu1) ...\n",
            "Setting up fonts-texgyre (20160520-1) ...\n",
            "Setting up fonts-lato (2.0-2) ...\n",
            "Setting up ruby-did-you-mean (1.2.0-2) ...\n",
            "Setting up ruby-net-telnet (0.1.1-2) ...\n",
            "Setting up rubygems-integration (1.11) ...\n",
            "Setting up javascript-common (11) ...\n",
            "Setting up texlive-fonts-recommended (2017.20180305-1) ...\n",
            "Setting up texlive-plain-generic (2017.20180305-2) ...\n",
            "Setting up ruby-minitest (5.10.3-1) ...\n",
            "Setting up ruby-power-assert (0.3.0-1) ...\n",
            "Setting up texlive-latex-extra (2017.20180305-2) ...\n",
            "Setting up ruby-test-unit (3.2.5-1) ...\n",
            "Setting up libruby2.5:amd64 (2.5.1-1ubuntu1.10) ...\n",
            "Setting up ruby2.5 (2.5.1-1ubuntu1.10) ...\n",
            "Setting up ruby (1:2.5.1) ...\n",
            "Setting up rake (12.3.1-1ubuntu0.1) ...\n",
            "Processing triggers for libc-bin (2.27-3ubuntu1.3) ...\n",
            "/sbin/ldconfig.real: /usr/local/lib/python3.7/dist-packages/ideep4py/lib/libmkldnn.so.0 is not a symbolic link\n",
            "\n",
            "Processing triggers for man-db (2.8.3-2ubuntu0.1) ...\n",
            "Processing triggers for fontconfig (2.12.6-0ubuntu2) ...\n",
            "Processing triggers for tex-common (6.09) ...\n",
            "debconf: unable to initialize frontend: Dialog\n",
            "debconf: (No usable dialog-like program is installed, so the dialog based frontend cannot be used. at /usr/share/perl5/Debconf/FrontEnd/Dialog.pm line 76.)\n",
            "debconf: falling back to frontend: Readline\n",
            "Running mktexlsr. This may take some time... done.\n",
            "Running updmap-sys. This may take some time... done.\n",
            "Running mktexlsr /var/lib/texmf ... done.\n",
            "Reading package lists... Done\n",
            "Building dependency tree       \n",
            "Reading state information... Done\n",
            "The following package was automatically installed and is no longer required:\n",
            "  libnvidia-common-460\n",
            "Use 'sudo apt autoremove' to remove it.\n",
            "The following additional packages will be installed:\n",
            "  ghostscript gsfonts\n",
            "Suggested packages:\n",
            "  ghostscript-x\n",
            "The following NEW packages will be installed:\n",
            "  dvipng ghostscript gsfonts\n",
            "0 upgraded, 3 newly installed, 0 to remove and 37 not upgraded.\n",
            "Need to get 3,250 kB of archives.\n",
            "After this operation, 4,947 kB of additional disk space will be used.\n",
            "Get:1 http://archive.ubuntu.com/ubuntu bionic-updates/main amd64 ghostscript amd64 9.26~dfsg+0-0ubuntu0.18.04.14 [51.3 kB]\n",
            "Get:2 http://archive.ubuntu.com/ubuntu bionic/universe amd64 dvipng amd64 1.15-1 [78.2 kB]\n",
            "Get:3 http://archive.ubuntu.com/ubuntu bionic/main amd64 gsfonts all 1:8.11+urwcyr1.0.7~pre44-4.4 [3,120 kB]\n",
            "Fetched 3,250 kB in 1s (3,273 kB/s)\n",
            "debconf: unable to initialize frontend: Dialog\n",
            "debconf: (No usable dialog-like program is installed, so the dialog based frontend cannot be used. at /usr/share/perl5/Debconf/FrontEnd/Dialog.pm line 76, <> line 3.)\n",
            "debconf: falling back to frontend: Readline\n",
            "debconf: unable to initialize frontend: Readline\n",
            "debconf: (This frontend requires a controlling tty.)\n",
            "debconf: falling back to frontend: Teletype\n",
            "dpkg-preconfigure: unable to re-open stdin: \n",
            "Selecting previously unselected package ghostscript.\n",
            "(Reading database ... 180747 files and directories currently installed.)\n",
            "Preparing to unpack .../ghostscript_9.26~dfsg+0-0ubuntu0.18.04.14_amd64.deb ...\n",
            "Unpacking ghostscript (9.26~dfsg+0-0ubuntu0.18.04.14) ...\n",
            "Selecting previously unselected package dvipng.\n",
            "Preparing to unpack .../dvipng_1.15-1_amd64.deb ...\n",
            "Unpacking dvipng (1.15-1) ...\n",
            "Selecting previously unselected package gsfonts.\n",
            "Preparing to unpack .../gsfonts_1%3a8.11+urwcyr1.0.7~pre44-4.4_all.deb ...\n",
            "Unpacking gsfonts (1:8.11+urwcyr1.0.7~pre44-4.4) ...\n",
            "Setting up gsfonts (1:8.11+urwcyr1.0.7~pre44-4.4) ...\n",
            "Setting up ghostscript (9.26~dfsg+0-0ubuntu0.18.04.14) ...\n",
            "Setting up dvipng (1.15-1) ...\n",
            "Processing triggers for fontconfig (2.12.6-0ubuntu2) ...\n",
            "Processing triggers for man-db (2.8.3-2ubuntu0.1) ...\n",
            "Reading package lists... Done\n",
            "Building dependency tree       \n",
            "Reading state information... Done\n",
            "dvipng is already the newest version (1.15-1).\n",
            "texlive-fonts-recommended is already the newest version (2017.20180305-1).\n",
            "texlive-fonts-recommended set to manually installed.\n",
            "texlive-latex-extra is already the newest version (2017.20180305-2).\n",
            "The following package was automatically installed and is no longer required:\n",
            "  libnvidia-common-460\n",
            "Use 'sudo apt autoremove' to remove it.\n",
            "The following additional packages will be installed:\n",
            "  cm-super-minimal pfb2t1c2pfb\n",
            "The following NEW packages will be installed:\n",
            "  cm-super cm-super-minimal pfb2t1c2pfb\n",
            "0 upgraded, 3 newly installed, 0 to remove and 37 not upgraded.\n",
            "Need to get 24.5 MB of archives.\n",
            "After this operation, 59.9 MB of additional disk space will be used.\n",
            "Get:1 http://archive.ubuntu.com/ubuntu bionic/universe amd64 cm-super-minimal all 0.3.4-11 [5,810 kB]\n",
            "Get:2 http://archive.ubuntu.com/ubuntu bionic/universe amd64 pfb2t1c2pfb amd64 0.3-11 [9,342 B]\n",
            "Get:3 http://archive.ubuntu.com/ubuntu bionic/universe amd64 cm-super all 0.3.4-11 [18.7 MB]\n",
            "Fetched 24.5 MB in 2s (11.0 MB/s)\n",
            "debconf: unable to initialize frontend: Dialog\n",
            "debconf: (No usable dialog-like program is installed, so the dialog based frontend cannot be used. at /usr/share/perl5/Debconf/FrontEnd/Dialog.pm line 76, <> line 3.)\n",
            "debconf: falling back to frontend: Readline\n",
            "debconf: unable to initialize frontend: Readline\n",
            "debconf: (This frontend requires a controlling tty.)\n",
            "debconf: falling back to frontend: Teletype\n",
            "dpkg-preconfigure: unable to re-open stdin: \n",
            "Selecting previously unselected package cm-super-minimal.\n",
            "(Reading database ... 180940 files and directories currently installed.)\n",
            "Preparing to unpack .../cm-super-minimal_0.3.4-11_all.deb ...\n",
            "Unpacking cm-super-minimal (0.3.4-11) ...\n",
            "Selecting previously unselected package pfb2t1c2pfb.\n",
            "Preparing to unpack .../pfb2t1c2pfb_0.3-11_amd64.deb ...\n",
            "Unpacking pfb2t1c2pfb (0.3-11) ...\n",
            "Selecting previously unselected package cm-super.\n",
            "Preparing to unpack .../cm-super_0.3.4-11_all.deb ...\n",
            "Unpacking cm-super (0.3.4-11) ...\n",
            "Setting up pfb2t1c2pfb (0.3-11) ...\n",
            "Setting up cm-super-minimal (0.3.4-11) ...\n",
            "Setting up cm-super (0.3.4-11) ...\n",
            "Creating fonts. This may take some time... done.\n",
            "Processing triggers for fontconfig (2.12.6-0ubuntu2) ...\n",
            "Processing triggers for tex-common (6.09) ...\n",
            "debconf: unable to initialize frontend: Dialog\n",
            "debconf: (No usable dialog-like program is installed, so the dialog based frontend cannot be used. at /usr/share/perl5/Debconf/FrontEnd/Dialog.pm line 76.)\n",
            "debconf: falling back to frontend: Readline\n",
            "Running mktexlsr. This may take some time... done.\n",
            "Running updmap-sys. This may take some time... done.\n",
            "Running mktexlsr /var/lib/texmf ... done.\n",
            "Processing triggers for man-db (2.8.3-2ubuntu0.1) ...\n"
          ]
        }
      ]
    },
    {
      "cell_type": "markdown",
      "metadata": {
        "id": "ULJ2adp2lMsF"
      },
      "source": [
        "##2) Definition of u, Fbar, Kt and evaluation function "
      ],
      "id": "ULJ2adp2lMsF"
    },
    {
      "cell_type": "code",
      "metadata": {
        "colab": {
          "base_uri": "https://localhost:8080/",
          "height": 125
        },
        "id": "706c7347",
        "outputId": "39847854-f2f3-4a7b-d6c0-37c41d012ae9"
      },
      "source": [
        "#########################################################\n",
        "#Define variables\n",
        "u, kbar, Kt =sym.symbols('u kbar K_t')\n",
        "\n",
        "Fbar = u + Fraction(3/2)*u**2 + Fraction(1/2)*u**3 + kbar*u\n",
        "\n",
        "Kt = sym.diff(Fbar, u)\n",
        "\n",
        "#display the equation of Fbar\n",
        "display(Fbar)\n",
        "display(Kt)\n",
        "\n",
        "\n",
        "###############\n",
        "# A small function to evaluate the numeric value of a given sympy function (e.g. Kt or Fbar) at given values of kbar and u.\n",
        "# When the f = Fbar, this evaluates the numeric value of Fbar at kbar=k and u=U\n",
        "###############\n",
        "def Eval_at(f, k, U):\n",
        "    return f.evalf(subs={u : U, kbar : k } )\n",
        "\n",
        "## example of how to use the above function to evaluate Kt or Fbar at kbar=0 and u=1\n",
        "val = Eval_at(Kt, 0, 1)\n",
        "print(\"Kt at the given point =\", val)\n",
        "\n",
        "val = Eval_at(Fbar, 0, 1)\n",
        "print(\"Fbar at the given point =\", val)\n",
        "####"
      ],
      "id": "706c7347",
      "execution_count": null,
      "outputs": [
        {
          "output_type": "display_data",
          "data": {
            "text/latex": "$\\displaystyle \\bar{k} u + \\frac{u^{3}}{2} + \\frac{3 u^{2}}{2} + u$",
            "text/plain": [
              "       3      2    \n",
              "      u    3⋅u     \n",
              "k̅⋅u + ── + ──── + u\n",
              "      2     2      "
            ]
          },
          "metadata": {}
        },
        {
          "output_type": "display_data",
          "data": {
            "text/latex": "$\\displaystyle \\bar{k} + \\frac{3 u^{2}}{2} + 3 u + 1$",
            "text/plain": [
              "       2          \n",
              "    3⋅u           \n",
              "k̅ + ──── + 3⋅u + 1\n",
              "     2            "
            ]
          },
          "metadata": {}
        },
        {
          "output_type": "stream",
          "name": "stdout",
          "text": [
            "Kt at the given point = 5.50000000000000\n",
            "Fbar at the given point = 3.00000000000000\n"
          ]
        }
      ]
    },
    {
      "cell_type": "markdown",
      "metadata": {
        "id": "r81umueBlV4f"
      },
      "source": [
        "##3) Forward-Euler Implementation"
      ],
      "id": "r81umueBlV4f"
    },
    {
      "cell_type": "markdown",
      "metadata": {
        "id": "xhtBm9L5lbSG"
      },
      "source": [
        "###3.1) General definition"
      ],
      "id": "xhtBm9L5lbSG"
    },
    {
      "cell_type": "code",
      "metadata": {
        "id": "1e99d15d"
      },
      "source": [
        "######################################\n",
        "# set necessary variables for Forward Euler iterations\n",
        "######################################\n",
        "kbar_val = 0.8     # value for kbar\n",
        "df = -0.05       # load increment at a given iteration\n",
        "Fmax = -2        #maximum desired value of Fbar\n",
        "num_iterations = math.ceil(Fmax/df) # maximum number of Forward Euler steps\n",
        "\n",
        "\n",
        "##two arrays to store force and displacement at each iteration\n",
        "Fi_FE = np.zeros(num_iterations)\n",
        "ui_FE = np.zeros(num_iterations)\n",
        "\n",
        "#######################################\n",
        "# do the forward Euler iterations\n",
        "#######################################\n",
        "for i in range(1, num_iterations):\n",
        "    Kti = Eval_at(Kt, kbar_val, ui_FE[i-1])    # Kt at u[i-1]\n",
        "    dui = df/Kti\n",
        "\n",
        "    ui_FE[i] = ui_FE[i-1] + dui\n",
        "    Fi_FE[i] = Fi_FE[i-1] + df\n",
        "########################################\n"
      ],
      "id": "1e99d15d",
      "execution_count": null,
      "outputs": []
    },
    {
      "cell_type": "markdown",
      "metadata": {
        "id": "lNtn6qy5lf7O"
      },
      "source": [
        "###3.2) Function implementation"
      ],
      "id": "lNtn6qy5lf7O"
    },
    {
      "cell_type": "code",
      "metadata": {
        "id": "CnCfYc-2lqwW"
      },
      "source": [
        "def ForwardEuler(kbar_val):\n",
        "  df = -0.05\n",
        "  Fmax = -2\n",
        "  num_iterations = math.ceil(Fmax/df)\n",
        "  Fi = np.zeros(num_iterations)\n",
        "  ui = np.zeros(num_iterations)\n",
        "  for i in range(1, num_iterations):\n",
        "    Kti = Eval_at(Kt, kbar_val, ui[i-1])    # Kt at u[i-1]\n",
        "    dui = df/Kti\n",
        "\n",
        "    ui[i] = ui[i-1] + dui\n",
        "    Fi[i] = Fi[i-1] + df\n",
        "  return(ui, Fi)"
      ],
      "id": "CnCfYc-2lqwW",
      "execution_count": null,
      "outputs": []
    },
    {
      "cell_type": "markdown",
      "metadata": {
        "id": "f-YhYjsZmrFB"
      },
      "source": [
        "##4) Newton-Raphson method implementation"
      ],
      "id": "f-YhYjsZmrFB"
    },
    {
      "cell_type": "markdown",
      "metadata": {
        "id": "ybb1KswhmrTX"
      },
      "source": [
        "###4.1) General definition"
      ],
      "id": "ybb1KswhmrTX"
    },
    {
      "cell_type": "code",
      "metadata": {
        "id": "br5_G-ZtB074"
      },
      "source": [
        "######################################\n",
        "# set necessary variables for Newton-Raphson iterations\n",
        "######################################\n",
        "kbar_val = 0.8     # value for kbar\n",
        "df = -0.05       # load increment at a given iteration\n",
        "Fmax = -2        #maximum desired value of Fbar\n",
        "num_iterations = math.ceil(Fmax/df) # maximum number of Newton-Raphson steps\n",
        "tolerance=0.0001\n",
        "\n",
        "##two arrays to store force and displacement at each iteration\n",
        "Fi_NR = np.zeros(num_iterations)\n",
        "ui_NR = np.zeros(num_iterations)\n",
        "\n",
        "#######################################\n",
        "# do the Newton-Raphson iterations\n",
        "#######################################\n",
        "\n",
        "for i in range(1, num_iterations):\n",
        "    #DeltaU is set to 0 at the beginning of the iteration\n",
        "    dui=0\n",
        "    #The internal force is evaluated\n",
        "    Fint=Eval_at(Fbar, kbar_val, ui_NR[i-1])\n",
        "    #The external force is calculated by adding the load increment\n",
        "    Fext=Fi_NR[i-1]+df\n",
        "    #The initial residual is calculated\n",
        "    r=df\n",
        "    #The tangent stiffness is calculated at the current step of the iteration\n",
        "    Kti = Eval_at(Kt, kbar_val, ui_NR[i-1]) \n",
        "    #Convergence loop is inititated, will continue looping until the residual is less than the established tolerance value of 0.0001\n",
        "    while abs(r) > tolerance:\n",
        "      #Calculation of sigma_u as the quotient between the residual and the tangent stiffness\n",
        "      sigma_u_i=r/Kti\n",
        "      #Delta u is updated by adding sigma_u\n",
        "      dui+=sigma_u_i\n",
        "      #Once again the internal force is calculated at the new u value\n",
        "      Fint=Eval_at(Fbar, kbar_val, ui_NR[i-1]+dui)\n",
        "      #The residual is updated\n",
        "      r=Fext-Fint\n",
        "      #Finally the tangent stiffness is updated\n",
        "      Kti = Eval_at(Kt, kbar_val, ui_NR[i-1]+dui)\n",
        "    ui_NR[i] = ui_NR[i-1] + dui\n",
        "    Fi_NR[i] = Fi_NR[i-1] + df\n",
        "########################################\n"
      ],
      "id": "br5_G-ZtB074",
      "execution_count": null,
      "outputs": []
    },
    {
      "cell_type": "markdown",
      "metadata": {
        "id": "FWt6QlmQoTNe"
      },
      "source": [
        "###3.2) Function implementation"
      ],
      "id": "FWt6QlmQoTNe"
    },
    {
      "cell_type": "code",
      "metadata": {
        "id": "MDkwTacSoZaw"
      },
      "source": [
        "def NewtonRaphson(kbar_val):\n",
        "  df = -0.05\n",
        "  Fmax = -2\n",
        "  num_iterations = math.ceil(Fmax/df)\n",
        "  tolerance=0.0001\n",
        "  ui_NR = np.zeros(num_iterations)\n",
        "  Fi_NR = np.zeros(num_iterations)\n",
        "  for i in range(1, num_iterations):\n",
        "    #DeltaU is set to 0 at the beginning of the iteration\n",
        "    dui=0\n",
        "    #The internal force is evaluated\n",
        "    Fint=Eval_at(Fbar, kbar_val, ui_NR[i-1])\n",
        "    #The external force is calculated by adding the load increment\n",
        "    Fext=Fi_NR[i-1]+df\n",
        "    #The initial residual is calculated\n",
        "    r=df\n",
        "    #The tangent stiffness is calculated at the current step of the iteration\n",
        "    Kti = Eval_at(Kt, kbar_val, ui_NR[i-1]) \n",
        "    #Convergence loop is inititated, will continue looping until the residual is less than the established tolerance value of 0.0001\n",
        "    while abs(r) > tolerance:\n",
        "      #Calculation of delta_u as the quotient between the residual and the tangent stiffness\n",
        "      delta_u_i=r/Kti\n",
        "      #Delta u is updated by adding delta_u\n",
        "      dui+=delta_u_i\n",
        "      #Once again the internal force is calculated at the new u value\n",
        "      Fint=Eval_at(Fbar, kbar_val, ui_NR[i-1]+dui)\n",
        "      #The residual is updated\n",
        "      r=Fext-Fint\n",
        "      #Finally the tangent stiffness is updated\n",
        "      Kti = Eval_at(Kt, kbar_val, ui_NR[i-1]+dui)\n",
        "    ui_NR[i] = ui_NR[i-1] + dui\n",
        "    Fi_NR[i] = Fi_NR[i-1] + df\n",
        "  return(ui_NR, Fi_NR)"
      ],
      "id": "MDkwTacSoZaw",
      "execution_count": null,
      "outputs": []
    },
    {
      "cell_type": "markdown",
      "metadata": {
        "id": "QlRUmfByqK26"
      },
      "source": [
        "##5) Arc-length method (Crisfield implementation)"
      ],
      "id": "QlRUmfByqK26"
    },
    {
      "cell_type": "markdown",
      "metadata": {
        "id": "-H37r05kqhvW"
      },
      "source": [
        "###5.1) General definition"
      ],
      "id": "-H37r05kqhvW"
    },
    {
      "cell_type": "code",
      "metadata": {
        "id": "vn2NLKLCso2d"
      },
      "source": [
        "######################################\n",
        "# set necessary variables for Arc-length method\n",
        "######################################\n",
        "kbar_val = 0.8     # value for kbar\n",
        "df = -0.05       # load increment at a given iteration\n",
        "Fmax = -2        #maximum desired value of Fbar\n",
        "num_iterations = math.ceil(Fmax/df) # maximum number of Newton-Raphson steps\n",
        "tol =0.0001 #Convergence criteria\n",
        "beta=1 #Beta value\n",
        "dl=0.01 #DeltaL value\n",
        "##three arrays to store force, displacement and lambda at each iteration\n",
        "Fi_AL = np.zeros(num_iterations)\n",
        "ui_AL = np.zeros(num_iterations)\n",
        "lambda_AL = np.zeros(num_iterations)\n",
        "#######################################\n",
        "# do the Arc-length iterations\n",
        "#######################################\n",
        "lam=1.0 #Initial lambda value\n",
        "fhat=df #fhat set to df value\n",
        "error=1 #Initial error set to 1\n",
        "\n",
        "for i in range(1, num_iterations):\n",
        "  #Define DeltaLambda\n",
        "  Dlam=1\n",
        "  #Ui is set as the u value from the previous step\n",
        "  ui=ui_AL[i-1]\n",
        "  if i==1:\n",
        "    #Evaluation of tangent stiffness at initial conditions\n",
        "    Kti=Eval_at(Kt, kbar_val, ui) \n",
        "    #delta_u_1 is calculated\n",
        "    delta_u_1=lam*fhat/Kti\n",
        "  else:\n",
        "    #delta_u_1 is set as the previous value of Du (last iteration)\n",
        "    delta_u_1=Duprev\n",
        "    #Lambda value is updated by adding the new Dlambda value\n",
        "    lam+=Dlam\n",
        "  #Ui is updated by adding the delta_u_1 value \n",
        "  ui+=delta_u_1\n",
        "  #Delta_u for this iteration is updated to the delta_u_1 value\n",
        "  Du=delta_u_1\n",
        "  #The internal force is calculated at the current step\n",
        "  fint=Eval_at(Fbar, kbar_val, ui)\n",
        "  #Evaluation of tangent stiffness at current step\n",
        "  Kti=Eval_at(Kt, kbar_val, ui) \n",
        "  #Residual calculation\n",
        "  res=lam*fhat-fint\n",
        "  #Convergence loop is inititated, will continue looping until the residual is less than the established tolerance value of 0.0001\n",
        "  while error>tol:\n",
        "    #Calculation of delta_u_1\n",
        "    delta_u_1=fhat/Kti\n",
        "    #Calculation of delta_u_2\n",
        "    delta_u_2=res/Kti\n",
        "    #delta_lambda is calculated using the normal path method \n",
        "    delta_lambda=-(Du*delta_u_2)/(Du*delta_u_1+beta*beta*Dlam*fhat*fhat)\n",
        "    #delta_u is computed with the new values of delta_lambda, delta_u_1 and delta_u_2\n",
        "    delta_u=delta_lambda*delta_u_1+delta_u_2\n",
        "    #Delta Lambda and Lambda are updated\n",
        "    Dlam+=delta_lambda\n",
        "    lam+=delta_lambda\n",
        "    #Delta u and Ui are updated\n",
        "    Du+=delta_u\n",
        "    ui+=delta_u\n",
        "    #Internal force is reevaluated at new Ui value\n",
        "    fint=Eval_at(Fbar, kbar_val, ui)\n",
        "    #Tangent stiffness is reevaluated at new Ui value\n",
        "    Kti=Eval_at(Kt, kbar_val, ui) \n",
        "    #Residual is calculated\n",
        "    res=lam*fhat-fint\n",
        "    #The error is defined as the absolute value of the residual\n",
        "    error=abs(res)\n",
        "  #Delta u from this iteration is stored as variable \"Duprev\"\n",
        "  Duprev=Du\n",
        "  #Final values for u and F in this interation are stored\n",
        "  ui_AL[i] = ui\n",
        "  Fi_AL[i] = lam*fhat"
      ],
      "id": "vn2NLKLCso2d",
      "execution_count": null,
      "outputs": []
    },
    {
      "cell_type": "markdown",
      "metadata": {
        "id": "bQSErd3q5Iph"
      },
      "source": [
        "###5.2) Function implementation"
      ],
      "id": "bQSErd3q5Iph"
    },
    {
      "cell_type": "code",
      "metadata": {
        "id": "IGWa3D_e5ILp"
      },
      "source": [
        "def ArcLength(kbar_val):\n",
        "  df = -0.05       # load increment at a given iteration\n",
        "  Fmax = -2        #maximum desired value of Fbar\n",
        "  num_iterations = math.ceil(Fmax/df) # maximum number of Newton-Raphson steps\n",
        "  tol =0.0001 #Convergence criteria\n",
        "  beta=1 #Beta value\n",
        "  dl=0.01 #DeltaL value\n",
        "  ##three arrays to store force, displacement and lambda at each iteration\n",
        "  Fi_AL = np.zeros(num_iterations)\n",
        "  ui_AL = np.zeros(num_iterations)\n",
        "  lambda_AL = np.zeros(num_iterations)\n",
        "\n",
        "  lam=1.0 #Initial lambda value\n",
        "  fhat=df #fhat set to df value\n",
        "\n",
        "  for i in range(1, num_iterations):\n",
        "    #Define DeltaLambda\n",
        "    Dlam=1\n",
        "    #Ui is set as the u value from the previous step\n",
        "    ui=ui_AL[i-1]\n",
        "    if i==1:\n",
        "      #Evaluation of tangent stiffness at initial conditions\n",
        "      Kti=Eval_at(Kt, kbar_val, ui) \n",
        "      #delta_u_1 is calculated\n",
        "      delta_u_1=lam*fhat/Kti\n",
        "    else:\n",
        "      #delta_u_1 is set as the previous value of Du (last iteration)\n",
        "      delta_u_1=Duprev\n",
        "      #Lambda value is updated by adding the new Dlambda value\n",
        "      lam+=Dlam\n",
        "    #Ui is updated by adding the delta_u_1 value \n",
        "    ui+=delta_u_1\n",
        "    #Delta_u for this iteration is updated to the delta_u_1 value\n",
        "    Du=delta_u_1\n",
        "    #The internal force is calculated at the current step\n",
        "    fint=Eval_at(Fbar, kbar_val, ui)\n",
        "    #Evaluation of tangent stiffness at current step\n",
        "    Kti=Eval_at(Kt, kbar_val, ui) \n",
        "    #Residual calculation\n",
        "    res=lam*fhat-fint\n",
        "    error=abs(res)\n",
        "    #Convergence loop is inititated, will continue looping until the residual is less than the established tolerance value of 0.0001\n",
        "    while error>tol:\n",
        "      #Calculation of delta_u_1\n",
        "      delta_u_1=fhat/Kti\n",
        "      #Calculation of delta_u_2\n",
        "      delta_u_2=res/Kti\n",
        "      #delta_lambda is calculated using the normal path method \n",
        "      delta_lambda=-(Du*delta_u_2)/(Du*delta_u_1+beta*beta*Dlam*fhat*fhat)\n",
        "      #delta_u is computed with the new values of delta_lambda, delta_u_1 and delta_u_2\n",
        "      delta_u=delta_lambda*delta_u_1+delta_u_2\n",
        "      #Delta Lambda and Lambda are updated\n",
        "      Dlam+=delta_lambda\n",
        "      lam+=delta_lambda\n",
        "      #Delta u and Ui are updated\n",
        "      Du+=delta_u\n",
        "      ui+=delta_u\n",
        "      #Internal force is reevaluated at new Ui value\n",
        "      fint=Eval_at(Fbar, kbar_val, ui)\n",
        "      #Tangent stiffness is reevaluated at new Ui value\n",
        "      Kti=Eval_at(Kt, kbar_val, ui) \n",
        "      #Residual is calculated\n",
        "      res=lam*fhat-fint\n",
        "      #The error is defined as the absolute value of the residual\n",
        "      error=abs(res)\n",
        "    #Delta u from this iteration is stored as variable \"Duprev\"\n",
        "    Duprev=Du\n",
        "    #Final values for u and F in this interation are stored\n",
        "    ui_AL[i] = ui\n",
        "    Fi_AL[i] = lam*fhat\n",
        "  return(ui_AL,Fi_AL)"
      ],
      "id": "IGWa3D_e5ILp",
      "execution_count": null,
      "outputs": []
    },
    {
      "cell_type": "markdown",
      "metadata": {
        "id": "tu8DYokb5igl"
      },
      "source": [
        "##6) Plotting function"
      ],
      "id": "tu8DYokb5igl"
    },
    {
      "cell_type": "code",
      "metadata": {
        "id": "fcd8d7a0"
      },
      "source": [
        "#######################################################################\n",
        "# Now we plot out results and analytical solution\n",
        "#######################################################################\n",
        "\n",
        "def plotResults(kbar_val):\n",
        "  #####################################################\n",
        "  # The following two lines are only for using pretty fonts in figures.\n",
        "  # Comment those, if you face any difficulties\n",
        "  ####################################################\n",
        "  plt.rc('text', usetex=True)\n",
        "  plt.rc('font', family='serif')\n",
        "  #####################################################\n",
        "\n",
        "  ############################################\n",
        "  fig,axs = plt.subplots(sharex=False,figsize=(10,8))\n",
        "  # ##########################################\n",
        "\n",
        "  axs.scatter(ForwardEuler(kbar_val)[0], ForwardEuler(kbar_val)[1], label=\"Forward Euler solution\")\n",
        "  axs.scatter(NewtonRaphson(kbar_val)[0], NewtonRaphson(kbar_val)[1], label=\"Newton Raphson solution\")\n",
        "  axs.scatter(ArcLength(kbar_val)[0], ArcLength(kbar_val)[1], label=\"Arc-length solution\")\n",
        "  ##############################################################\n",
        "  # To plot the analytical relation between Fbar and u\n",
        "  ##############################################################\n",
        "  ui_analytic = np.linspace(0, -2, 100)\n",
        "  Fi_analytic = np.zeros(len(ui_analytic))\n",
        "  for i in range(len(ui_analytic)):\n",
        "      Fi_analytic[i] = Eval_at(Fbar, kbar_val, ui_analytic[i])\n",
        "\n",
        "  axs.plot(ui_analytic, Fi_analytic, color='black', linewidth=1, label=\"Analytical solution \"+r\"$\\frac{u^3}{2}+\\frac{3u^2}{2}+$\"+str(kbar_val+1)+r\"$u$\")\n",
        "  ###############################################################\n",
        "\n",
        "  ###############################################################\n",
        "  # axes titles, font size, etc. of the plot\n",
        "  ###############################################################\n",
        "  axs.set_xlabel(r\"$u$\", size=24)\n",
        "  axs.set_ylabel(r\"$\\bar{F}$\", size=24)\n",
        "  axs.xaxis.set_tick_params(labelsize=20)\n",
        "  axs.yaxis.set_tick_params(labelsize=20)\n",
        "  axs.legend(fontsize=20, frameon=False)\n",
        "  #########################\n",
        "\n",
        "  plt.show()"
      ],
      "id": "fcd8d7a0",
      "execution_count": null,
      "outputs": []
    },
    {
      "cell_type": "markdown",
      "metadata": {
        "id": "rPT__9K-63sj"
      },
      "source": [
        "## 7) Results"
      ],
      "id": "rPT__9K-63sj"
    },
    {
      "cell_type": "markdown",
      "metadata": {
        "id": "9uf4S-vC66lU"
      },
      "source": [
        "### 7.1) For *k_bar*=1"
      ],
      "id": "9uf4S-vC66lU"
    },
    {
      "cell_type": "code",
      "metadata": {
        "colab": {
          "base_uri": "https://localhost:8080/",
          "height": 516
        },
        "id": "Da9_-0136KMR",
        "outputId": "454f69f3-dcde-4bbe-96f4-31cd228b3183"
      },
      "source": [
        "plotResults(1)"
      ],
      "id": "Da9_-0136KMR",
      "execution_count": null,
      "outputs": [
        {
          "output_type": "display_data",
          "data": {
            "image/png": "[encoded data removed]",
            "text/plain": [
              "<Figure size 720x576 with 1 Axes>"
            ]
          },
          "metadata": {
            "needs_background": "light"
          }
        }
      ]
    },
    {
      "cell_type": "markdown",
      "metadata": {
        "id": "IcaRa1ns7UVY"
      },
      "source": [
        "### 7.1) For *k_bar*=0.5"
      ],
      "id": "IcaRa1ns7UVY"
    },
    {
      "cell_type": "code",
      "metadata": {
        "colab": {
          "base_uri": "https://localhost:8080/",
          "height": 516
        },
        "id": "6NiPJEfb7DPv",
        "outputId": "8e56bf2f-8bd5-40bd-dd49-5041987eb2a8"
      },
      "source": [
        "plotResults(0.5)"
      ],
      "id": "6NiPJEfb7DPv",
      "execution_count": null,
      "outputs": [
        {
          "output_type": "display_data",
          "data": {
            "image/png": "[encoded data removed]",
            "text/plain": [
              "<Figure size 720x576 with 1 Axes>"
            ]
          },
          "metadata": {
            "needs_background": "light"
          }
        }
      ]
    },
    {
      "cell_type": "markdown",
      "metadata": {
        "id": "_EgWX1iS7ZXm"
      },
      "source": [
        "### 7.1) For *k_bar*=0.1"
      ],
      "id": "_EgWX1iS7ZXm"
    },
    {
      "cell_type": "code",
      "metadata": {
        "colab": {
          "base_uri": "https://localhost:8080/",
          "height": 516
        },
        "id": "40atzbya7MMy",
        "outputId": "8e43daec-1b23-403a-b617-3b0e6eb6dd20"
      },
      "source": [
        "plotResults(0.1)"
      ],
      "id": "40atzbya7MMy",
      "execution_count": null,
      "outputs": [
        {
          "output_type": "display_data",
          "data": {
            "image/png": "[encoded data removed]",
            "text/plain": [
              "<Figure size 720x576 with 1 Axes>"
            ]
          },
          "metadata": {
            "needs_background": "light"
          }
        }
      ]
    }
  ]
}